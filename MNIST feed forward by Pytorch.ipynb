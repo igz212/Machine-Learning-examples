{
 "cells": [
  {
   "cell_type": "code",
   "execution_count": 1,
   "metadata": {},
   "outputs": [],
   "source": [
    "import torch\n",
    "import torchvision.datasets as datasets\n",
    "import torchvision.transforms"
   ]
  },
  {
   "cell_type": "code",
   "execution_count": 3,
   "metadata": {},
   "outputs": [],
   "source": [
    "#  declare a class of our neural Network\n",
    "class NeuralNet(torch.nn.Module):\n",
    "    def __init__(self, input_size, hidden_size, output_size):\n",
    "        super(NeuralNet, self).__init__()\n",
    "        self.l1 = torch.nn.Linear(input_size, hidden_size)    #First Layer                           \n",
    "        self.l2 = torch.nn.Linear(hidden_size, hidden_size)      #Second Layer Activation\n",
    "        self.l3 = torch.nn.Linear(hidden_size, output_size)\n",
    "        self.activation = torch.nn.ReLU() # in this case Relu would be fine! but may be for other one you should be more carefull\n",
    "        #  maybe for the other case you should use torch.nn.Tanh() its more robust to curved one\n",
    "        self.init_weights()\n",
    "\n",
    "    def init_weights(self):\n",
    "        torch.nn.init.kaiming_normal_(self.l1.weight)\n",
    "        torch.nn.init.kaiming_normal_(self.l2.weight)\n",
    "        \n",
    "        \n",
    "    def forward(self, X):                          \n",
    "        out = self.l1(X)\n",
    "        out = self.activation(out)\n",
    "        out = self.l2(out)\n",
    "        out = self.activation(out)\n",
    "        out = self.l3(out)\n",
    "        return out\n",
    "        "
   ]
  },
  {
   "cell_type": "code",
   "execution_count": 4,
   "metadata": {},
   "outputs": [],
   "source": [
    "train_dataset = datasets.MNIST(root='./data', train=True, transform=torchvision.transforms.ToTensor(), download=True)"
   ]
  },
  {
   "cell_type": "code",
   "execution_count": 5,
   "metadata": {},
   "outputs": [],
   "source": [
    "test_dataset = datasets.MNIST(root='./data', train=False,transform=torchvision.transforms.ToTensor())"
   ]
  },
  {
   "cell_type": "code",
   "execution_count": 6,
   "metadata": {},
   "outputs": [],
   "source": [
    "batch_size = 100\n",
    "train_loader = torch.utils.data.DataLoader(dataset=train_dataset, batch_size=batch_size,shuffle=True)\n",
    "test_loader = torch.utils.data.DataLoader(dataset=test_dataset,batch_size=batch_size,shuffle=True)\n",
    "# our data would be iterable by loading it to a loader from torch.utils.data.DataLoader() \n",
    "# by means of shuffle = True, our data would be independent to the order of data"
   ]
  },
  {
   "cell_type": "code",
   "execution_count": 7,
   "metadata": {},
   "outputs": [],
   "source": [
    "learning_rate = 0.001\n",
    "\n",
    "#  instantiate net as our model from NeuralNet, which we declared before \n",
    "net = NeuralNet(784, 392, 10)\n",
    "\n",
    "#  To use CUDA if it's available \n",
    "if torch.cuda.is_available():\n",
    "    net = net.cuda()\n",
    "\n",
    "cel = torch.nn.CrossEntropyLoss()\n",
    "#  use Adam optimizer\n",
    "optimizer = torch.optim.Adam(net.parameters(), lr=learning_rate)"
   ]
  },
  {
   "cell_type": "code",
   "execution_count": 8,
   "metadata": {},
   "outputs": [
    {
     "name": "stdout",
     "output_type": "stream",
     "text": [
      "Results for epoch 1/10 : \n",
      "Training Loss: 0.238, Training Accuracy: 93.080%\n",
      "Results for epoch 2/10 : \n",
      "Training Loss: 0.087, Training Accuracy: 97.322%\n",
      "Results for epoch 3/10 : \n",
      "Training Loss: 0.054, Training Accuracy: 98.245%\n",
      "Results for epoch 4/10 : \n",
      "Training Loss: 0.039, Training Accuracy: 98.738%\n",
      "Results for epoch 5/10 : \n",
      "Training Loss: 0.028, Training Accuracy: 99.125%\n",
      "Results for epoch 6/10 : \n",
      "Training Loss: 0.023, Training Accuracy: 99.247%\n",
      "Results for epoch 7/10 : \n",
      "Training Loss: 0.019, Training Accuracy: 99.393%\n",
      "Results for epoch 8/10 : \n",
      "Training Loss: 0.016, Training Accuracy: 99.468%\n",
      "Results for epoch 9/10 : \n",
      "Training Loss: 0.015, Training Accuracy: 99.475%\n",
      "Results for epoch 10/10 : \n",
      "Training Loss: 0.013, Training Accuracy: 99.528%\n"
     ]
    }
   ],
   "source": [
    "epochs = 10\n",
    "for epoch_counter in range(epochs):\n",
    "    total_loss = 0\n",
    "    hit_counter = 0\n",
    "    for index, (images, labels) in enumerate(train_loader):   \n",
    "        images = images.view(-1, 784) #  to reshape tensor of images : 28*28 = 784 the size of each one\n",
    "        if torch.cuda.is_available():\n",
    "            images = images.cuda()\n",
    "            labels = labels.cuda()\n",
    "            \n",
    "        outputs = net(images)       \n",
    "        will_not_used, predicted = torch.max(outputs.data, 1)                                              \n",
    "        hit_counter += (predicted == labels).sum() \n",
    "        loss = cel(outputs, labels) #  output as predicted class and labels as actual one\n",
    "        total_loss += loss.item()\n",
    "        optimizer.zero_grad() #  to clear the history of gradients before next backpropogation\n",
    "        loss.backward()\n",
    "        optimizer.step()                                  \n",
    "    \n",
    "    print('Results for epoch {}/{} : '.format(epoch_counter+1, epochs))\n",
    "    accuracy = 100 * float(hit_counter)/len(train_dataset)\n",
    "    training_loss = total_loss/(len(train_loader))\n",
    "    print('Training Loss: {:.3f}, Training Accuracy: {:.3f}%'.format(training_loss, accuracy))"
   ]
  },
  {
   "cell_type": "code",
   "execution_count": 9,
   "metadata": {},
   "outputs": [
    {
     "name": "stdout",
     "output_type": "stream",
     "text": [
      "Accuracy to test_set: 97.97 %\n"
     ]
    }
   ],
   "source": [
    "with torch.no_grad():\n",
    "    hit_counter = 0\n",
    "    for images, labels in test_loader:\n",
    "        if torch.cuda.is_available():\n",
    "            images = images.cuda()\n",
    "            labels = labels.cuda()\n",
    "        images = images.view(-1, 28*28)\n",
    "        outputs = net(images)\n",
    "        will_not_used, predicted = torch.max(outputs.data, 1)\n",
    "        hit_counter += (predicted == labels).sum().item()\n",
    "\n",
    "    #  Accuracy of the network on test images about 10000   \n",
    "    accuracy = 100 * hit_counter / len(test_dataset)\n",
    "    print('Accuracy to test_set: {} %'.format(accuracy))"
   ]
  },
  {
   "cell_type": "code",
   "execution_count": null,
   "metadata": {},
   "outputs": [],
   "source": []
  }
 ],
 "metadata": {
  "kernelspec": {
   "display_name": "Python 3",
   "language": "python",
   "name": "python3"
  },
  "language_info": {
   "codemirror_mode": {
    "name": "ipython",
    "version": 3
   },
   "file_extension": ".py",
   "mimetype": "text/x-python",
   "name": "python",
   "nbconvert_exporter": "python",
   "pygments_lexer": "ipython3",
   "version": "3.8.5"
  }
 },
 "nbformat": 4,
 "nbformat_minor": 4
}
