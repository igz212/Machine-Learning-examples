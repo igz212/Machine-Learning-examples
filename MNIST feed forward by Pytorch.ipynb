{
 "cells": [
  {
   "cell_type": "code",
   "execution_count": 5,
   "metadata": {},
   "outputs": [],
   "source": [
    "import torch\n",
    "import torch.nn as nn\n",
    "import torchvision.datasets as datasets\n",
    "import torchvision.transforms as transforms"
   ]
  },
  {
   "cell_type": "code",
   "execution_count": 19,
   "metadata": {},
   "outputs": [],
   "source": [
    "#  declare a class of our neural Network\n",
    "class NeuralNet(torch.nn.Module):\n",
    "    def __init__(self, input_size, hidden_size, output_size):\n",
    "        super(NeuralNet, self).__init__()\n",
    "        self.l1 = torch.nn.Linear(input_size, hidden_size)    #First Layer                           \n",
    "        self.l2 = torch.nn.Linear(hidden_size, hidden_size)      #Second Layer Activation\n",
    "        self.l3 = torch.nn.Linear(hidden_size, output_size)\n",
    "        self.activation = torch.nn.ReLU() # in this case Relu would be fine! but may be for other one you should be more carefull\n",
    "        self.init_weights()\n",
    "        \n",
    "        def init_weights(self):\n",
    "            torch.nn.init.kaiming_normal_(self.l1.weight)\n",
    "            torch.nn.init.kaiming_normal_(self.l2.weight)\n",
    "        \n",
    "        \n",
    "        def forward(self, X):                          \n",
    "            out = self.l1(X)\n",
    "            out = self.activation(out)\n",
    "            out = self.l2(out)\n",
    "            out = self.activation(out)\n",
    "            out = self.l3(out)\n",
    "            return out\n",
    "        "
   ]
  },
  {
   "cell_type": "code",
   "execution_count": 20,
   "metadata": {},
   "outputs": [],
   "source": [
    "#  number of input neurons based on image pixels\n",
    "input_size = 784\n",
    "hidden_size = 392\n",
    "output_size = 10\n",
    "epochs = 25\n",
    "batch_size = 100\n",
    "learning_rate = 0.001"
   ]
  },
  {
   "cell_type": "code",
   "execution_count": 12,
   "metadata": {},
   "outputs": [],
   "source": [
    "train_dataset = datasets.MNIST(root='./data', train=True, transform=transforms.ToTensor(), download=True)"
   ]
  },
  {
   "cell_type": "code",
   "execution_count": 13,
   "metadata": {},
   "outputs": [],
   "source": [
    "test_dataset = datasets.MNIST(root='./data', train=False,transform=transforms.ToTensor())"
   ]
  },
  {
   "cell_type": "code",
   "execution_count": 21,
   "metadata": {},
   "outputs": [],
   "source": [
    "train_loader = torch.utils.data.DataLoader(dataset=train_dataset, batch_size=batch_size,shuffle=True)\n",
    "test_loader = torch.utils.data.DataLoader(dataset=test_dataset,batch_size=batch_size,shuffle=True)\n",
    "# our data would be iterable by loading it to a loader from torch.utils.data.DataLoader() \n",
    "# by means of shuffle = True, our data would be independent to the order of data"
   ]
  },
  {
   "cell_type": "code",
   "execution_count": null,
   "metadata": {},
   "outputs": [],
   "source": []
  }
 ],
 "metadata": {
  "kernelspec": {
   "display_name": "Python 3",
   "language": "python",
   "name": "python3"
  },
  "language_info": {
   "codemirror_mode": {
    "name": "ipython",
    "version": 3
   },
   "file_extension": ".py",
   "mimetype": "text/x-python",
   "name": "python",
   "nbconvert_exporter": "python",
   "pygments_lexer": "ipython3",
   "version": "3.8.5"
  }
 },
 "nbformat": 4,
 "nbformat_minor": 4
}
